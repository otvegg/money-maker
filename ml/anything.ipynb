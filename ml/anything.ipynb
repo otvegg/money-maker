{
 "cells": [
  {
   "cell_type": "code",
   "execution_count": 1,
   "id": "c238688d",
   "metadata": {},
   "outputs": [
    {
     "name": "stderr",
     "output_type": "stream",
     "text": [
      "c:\\Users\\Timia\\anaconda3\\envs\\algtrading\\Lib\\site-packages\\tqdm\\auto.py:21: TqdmWarning: IProgress not found. Please update jupyter and ipywidgets. See https://ipywidgets.readthedocs.io/en/stable/user_install.html\n",
      "  from .autonotebook import tqdm as notebook_tqdm\n"
     ]
    }
   ],
   "source": [
    "import wandb\n",
    "from transformers import (\n",
    "    AutoModelForSequenceClassification,\n",
    "    AutoTokenizer,\n",
    "    Trainer,\n",
    "    TrainingArguments,\n",
    "    EarlyStoppingCallback\n",
    ")\n",
    "import warnings\n",
    "\n",
    "from sklearn.metrics import (\n",
    "    accuracy_score,\n",
    "    f1_score,\n",
    "    confusion_matrix,\n",
    "    ConfusionMatrixDisplay,\n",
    ")\n",
    "\n",
    "from datasets import load_dataset, concatenate_datasets, Dataset\n",
    "import logging\n",
    "from collections import Counter\n",
    "\n",
    "from sklearn.model_selection import train_test_split\n",
    "import pandas as pd\n",
    "import time\n",
    "import matplotlib.pyplot as plt\n",
    "import sys, os\n",
    "import torch\n",
    "from sklearn.utils.class_weight import compute_class_weight\n",
    "import numpy as np\n",
    "import time\n",
    "from gliner import GLiNER\n",
    "\n"
   ]
  },
  {
   "cell_type": "code",
   "execution_count": null,
   "id": "b1adf2b6",
   "metadata": {},
   "outputs": [],
   "source": [
    "ds = load_dataset(\"ChanceFocus/flare-fiqasa\")\n",
    "df = pd.read_csv(\"financial_phrasebank.csv\")\n",
    "labels = {0:\"negative\", 1:\"neutral\", 2:\"positive\"}\n"
   ]
  },
  {
   "cell_type": "code",
   "execution_count": 132,
   "id": "6aa0d20e",
   "metadata": {},
   "outputs": [],
   "source": [
    "fpb = df.drop(columns=[\"english_sentence\"])\n",
    "fpb = fpb.rename(columns={\"norwegian_sentence\" : \"text\"})\n",
    "fpb[\"label\"] = fpb[\"label\"].map(labels)"
   ]
  },
  {
   "cell_type": "code",
   "execution_count": 131,
   "id": "7a0db86f",
   "metadata": {},
   "outputs": [],
   "source": [
    "merged_flare:Dataset = concatenate_datasets([d for d in ds.values()])\n",
    "flare = merged_flare.to_pandas()\n",
    "flare.drop(columns=[\"id\", \"query\", \"choices\", \"gold\"], inplace=True)\n",
    "flare.rename(columns={\"answer\":\"label\"}, inplace=True)"
   ]
  },
  {
   "cell_type": "code",
   "execution_count": null,
   "id": "184dbee4",
   "metadata": {},
   "outputs": [],
   "source": [
    "frames = [flare,fpb]\n",
    "merged = pd.concat(frames, ignore_index=True)"
   ]
  },
  {
   "cell_type": "code",
   "execution_count": 139,
   "id": "51b4f020",
   "metadata": {},
   "outputs": [],
   "source": [
    "# Split into train (70%), temp (30%) then split temp into validation/test (50% each)\n",
    "train, temp = train_test_split(df, test_size=0.3, random_state=42)\n",
    "val, test = train_test_split(temp, test_size=0.5, random_state=42)\n",
    "\n",
    "train.to_csv(\"train.csv\", index=False)\n",
    "val.to_csv(\"validation.csv\", index=False)\n",
    "test.to_csv(\"test.csv\", index=False)\n"
   ]
  },
  {
   "cell_type": "code",
   "execution_count": 138,
   "id": "060ab14d",
   "metadata": {},
   "outputs": [
    {
     "data": {
      "image/png": "[encoded data removed]",
      "text/plain": [
       "<Figure size 640x480 with 1 Axes>"
      ]
     },
     "metadata": {},
     "output_type": "display_data"
    }
   ],
   "source": [
    "merged[\"label\"].value_counts().plot(kind=\"bar\")\n",
    "plt.xlabel(\"Class\")\n",
    "plt.ylabel(\"Count\")\n",
    "plt.title(\"Class Distribution\")\n",
    "plt.show()\n",
    "plt.close()"
   ]
  },
  {
   "cell_type": "code",
   "execution_count": 15,
   "id": "5a865c24",
   "metadata": {},
   "outputs": [
    {
     "name": "stderr",
     "output_type": "stream",
     "text": [
      "Fetching 4 files: 100%|██████████| 4/4 [00:00<?, ?it/s]\n",
      "c:\\Users\\Timia\\anaconda3\\envs\\algtrading\\Lib\\site-packages\\transformers\\convert_slow_tokenizer.py:564: UserWarning: The sentencepiece tokenizer that you are converting to a fast tokenizer uses the byte fallback option which is not implemented in the fast tokenizers. In practice this means that the fast version of the tokenizer can produce unknown tokens whereas the sentencepiece version would have converted these unknown tokens into a sequence of byte tokens matching the original piece of text.\n",
      "  warnings.warn(\n",
      "Asking to truncate to max_length but no maximum length is provided and the model has no predefined maximum length. Default to no truncation.\n"
     ]
    },
    {
     "name": "stdout",
     "output_type": "stream",
     "text": [
      "Entity                    Type            Confidence\n",
      "--------------------------------------------------\n",
      "Veidekke                  company         0.90\n",
      "veidekke                  company         0.86\n",
      "Kongsberg Teknologipark   location        0.87\n",
      "Veidekke                  company         0.84\n",
      "Veidekke                  company         0.82\n",
      "urchade/gliner_small-v2.1 took 0.33s\n"
     ]
    },
    {
     "name": "stderr",
     "output_type": "stream",
     "text": [
      "Fetching 5 files: 100%|██████████| 5/5 [00:00<?, ?it/s]\n",
      "Asking to truncate to max_length but no maximum length is provided and the model has no predefined maximum length. Default to no truncation.\n"
     ]
    },
    {
     "name": "stdout",
     "output_type": "stream",
     "text": [
      "Entity                    Type            Confidence\n",
      "--------------------------------------------------\n",
      "Veidekke                  company         0.73\n",
      "veidekke                  company         0.74\n",
      "Kongsberg Teknologipark   location        0.84\n",
      "Veidekke                  company         0.71\n",
      "Veidekke                  company         0.73\n",
      "urchade/gliner_medium-v2.1 took 0.62s\n"
     ]
    },
    {
     "name": "stderr",
     "output_type": "stream",
     "text": [
      "Fetching 4 files: 100%|██████████| 4/4 [00:00<?, ?it/s]\n",
      "Asking to truncate to max_length but no maximum length is provided and the model has no predefined maximum length. Default to no truncation.\n"
     ]
    },
    {
     "name": "stdout",
     "output_type": "stream",
     "text": [
      "Entity                    Type            Confidence\n",
      "--------------------------------------------------\n",
      "Veidekke                  location        0.99\n",
      "veidekke                  location        0.98\n",
      "Kongsberg Defence & Aerospace company         0.93\n",
      "Veidekke                  location        0.99\n",
      "Veidekke                  location        0.99\n",
      "urchade/gliner_large-v2.1 took 1.54s\n"
     ]
    }
   ],
   "source": [
    "text = \"\"\"DNB ASA is the largest financial services group in Norway. It offers services in over 19 countries, including Denmark, Sweden, and the UK.\"\"\"\n",
    "text = \"De siste årene har norske eiere solgt hundrevis av barnehagebygg til utenlandske investorer for milliardbeløp. Disse barnehagene betaler nesten dobbelt så høy husleie som andre private barnehager, viser en analyse gjennomført av Utdanningsnytt og E24. Én av dem er Norlandia Glassverket barnehage i Bærum.Nå har Utdanningsdirektoratet hatt tilsyn med barnehagen. De mener husleien ligger langt over markedspris, noe som er brudd på barnehageloven. Direktoratet har hyret inn analyseselskapet Veridian Analyse til å gjøre en uavhengig vurdering av husleienivået. Vurderingen tilsier at leieprisen har vært dobbelt så høy som den burde vært, ifølge direktoratet. – Med forbehold om at Veridian har vurdert alminnelig leie korrekt, så er avviket helt uvanlig høyt, sier Sølve Bærug, førsteamanuensis ved Institutt for eiendom og juss ved NMBU.\"\n",
    "text = \"Offshore-gründer til Erna Solberg: – Jeg skulle gjerne hatt økt skatt på selskaper som leverer gode resultater. Høyre ønsker både å fjerne skatt på «arbeidende kapital» og lette skattetrykket for unge i etableringsfasen. Det er enda noen uker til valgkampen for alvor er i gang, men flere partier har begynt å varme opp med smått hektisk reisevirksomhet land og strand i en tidlig jakt etter velgere.\"\n",
    "text = \"Reuters: Zelenskyj i samtaler med Norge og flere andre land om felles våpenproduksjon. Ukrainas president Volodymyr Zelenskyj sier de skal inngå avtale med Norge, Danmark, Tyskland, Canada, Storbritannia og Litauen om felles våpenproduksjon. Ukraina planlegger å signere avtalen i sommer om å starte å eksportere våpenproduksjonsteknologi. Avtalene er allerede på plass, ifølge den ukrainske presidenten.\"\n",
    "text = \"DNB har rettet feil i nettbanken. DNB hadde lørdag morgen problemer med sin nettbank. Klokken 9.50 meldte banken at feilen var rettet. Til VG opplyste DNB at andre tjenester fungerte som normalt, og at kunder kommer inn på banken via mobilbank. Det er ikke kjent hva feilen skyldtes.\"\n",
    "text = \"Rec Silicon trenger penger. Selskaper melder fredag kveld i en børsmelding at de ikke har kapital tilgjengelig til å møte gjeldsforpliktelser eller operasjonskostnader for inneværende år. De er derfor avhengige av sin største aksjonær, Hanwha, skriver de i meldingen. De skriver videre at de snart må sikre seg kapital, men vet ennå ikke når eller hvordan de skal løse dette. I samme melding opplyser Rec Silicon at de har gjennomført en intern gjennomgang med et eksternt advokatfirma av de faktiske forholdene som ble tatt opp i en ekstraordinær generalforsamling og granskning 16. mai. Selskapet fant ingen forseelser.\"\n",
    "text = \"Veidekke sikrer milliardkontrakt. veidekke har inngått en totalentreprise verdt 2,3 milliarder kroner for bygging av Utsikten for Kongsberg Defence & Aerospace. Grunnarbeidene er allerede i gang, og bygget har planlagt ferdigstillelse i første halvår 2028. Oppdraget går inn i Veidekkes ordreserve for andre kvartal 2025, ifølge en børsmelding. Det nye bygget i Kongsberg Teknologipark blir på totalt 65.000 kvadratmeter fordelt over åtte etasjer og vil romme rundt 2.300 arbeidsplasser. – Dette er et stort og viktig prosjekt for svært mange lokalt, nasjonalt og internasjonalt, og det er viktig for oss i Veidekke, sier konsernsjef Jimmy Bengtsson i Veidekke.\"\n",
    "\n",
    "labels = [\"organization\", \"location\", \"company\", \"industry\"]\n",
    "\n",
    "def benchmark(model_name):\n",
    "    model = GLiNER.from_pretrained(model_name)\n",
    "    start = time.time()\n",
    "    entities = model.predict_entities(text, labels)\n",
    "    print(f\"{'Entity':<25} {'Type':<15} {'Confidence':<10}\")\n",
    "    print('-' * 50)\n",
    "    for ent in entities:\n",
    "        print(f\"{ent['text']:<25} {ent['label']:<15} {ent['score']:.2f}\")\n",
    "    duration = time.time() - start\n",
    "    print(f\"{model_name} took {duration:.2f}s\")\n",
    "    #print(\"Entities:\", entities)\n",
    "\n",
    "models = [\n",
    "    \"urchade/gliner_small-v2.1\",\n",
    "    \"urchade/gliner_medium-v2.1\",\n",
    "    \"urchade/gliner_large-v2.1\"\n",
    "]\n",
    "\n",
    "for m in models:\n",
    "    benchmark(m)\n"
   ]
  }
 ],
 "metadata": {
  "kernelspec": {
   "display_name": "algtrading",
   "language": "python",
   "name": "python3"
  },
  "language_info": {
   "codemirror_mode": {
    "name": "ipython",
    "version": 3
   },
   "file_extension": ".py",
   "mimetype": "text/x-python",
   "name": "python",
   "nbconvert_exporter": "python",
   "pygments_lexer": "ipython3",
   "version": "3.12.3"
  }
 },
 "nbformat": 4,
 "nbformat_minor": 5
}
