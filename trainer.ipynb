{
 "cells": [
  {
   "cell_type": "code",
   "execution_count": 6,
   "id": "0a2db4f1",
   "metadata": {},
   "outputs": [],
   "source": [
    "from transformers import (\n",
    "    AutoModelForSequenceClassification,\n",
    "    AutoTokenizer,\n",
    "    Trainer,\n",
    "    TrainingArguments,\n",
    "    EarlyStoppingCallback\n",
    ")\n",
    "\n",
    "from sklearn.metrics import (\n",
    "    accuracy_score,\n",
    "    f1_score,\n",
    "    confusion_matrix,\n",
    "    ConfusionMatrixDisplay,\n",
    ")\n",
    "from datasets import load_dataset\n",
    "\n",
    "\n",
    "from sklearn.model_selection import train_test_split\n",
    "import pandas as pd\n",
    "import time\n",
    "import matplotlib.pyplot as plt\n",
    "import sys, os\n",
    "import torch\n",
    "from sklearn.utils.class_weight import compute_class_weight\n",
    "import numpy as np\n",
    "import wandb"
   ]
  },
  {
   "cell_type": "code",
   "execution_count": null,
   "id": "2ea43bf4",
   "metadata": {},
   "outputs": [
    {
     "name": "stdout",
     "output_type": "stream",
     "text": [
      "label\n",
      "1    2535\n",
      "2    1168\n",
      "0     514\n",
      "Name: count, dtype: int64\n",
      "Train size: 2951, Validation size: 633, Test size: 633\n"
     ]
    }
   ],
   "source": [
    "\n",
    "output_dir = f\"sentiment_model-{time.strftime(\"%Y%m%d-%H%M%S\")}\"\n",
    "os.makedirs(output_dir, exist_ok=True)\n",
    "\n",
    "\n",
    "# Load your dataset\n",
    "df = pd.read_csv(\"financial_phrasebank.csv\")\n",
    "\n",
    "# Check label distribution\n",
    "print(df[\"label\"].value_counts())\n",
    "# 1    2535\n",
    "# 2    1168\n",
    "# 0     514\n",
    "\n",
    "# Split into train (70%), temp (30%) -> then split temp into validation/test (50% each)\n",
    "train, temp = train_test_split(df, test_size=0.3, random_state=42)\n",
    "val, test = train_test_split(temp, test_size=0.5, random_state=42)\n",
    "\n",
    "print(f\"Train size: {len(train)}, Validation size: {len(val)}, Test size: {len(test)}\")\n",
    "\n",
    "# Save datasets\n",
    "train.to_csv(\"train.csv\", index=False)\n",
    "val.to_csv(\"validation.csv\", index=False)\n",
    "test.to_csv(\"test.csv\", index=False)\n",
    "\n"
   ]
  },
  {
   "cell_type": "code",
   "execution_count": 12,
   "id": "f73e4edc",
   "metadata": {},
   "outputs": [],
   "source": [
    "os.environ[\"WANDB_PROJECT\"]=\"my-awesome-project\"\n",
    "os.environ[\"WANDB_LOG_MODEL\"]=\"false\"\n"
   ]
  },
  {
   "cell_type": "code",
   "execution_count": 13,
   "id": "61b8db07",
   "metadata": {},
   "outputs": [
    {
     "name": "stderr",
     "output_type": "stream",
     "text": [
      "Some weights of BertForSequenceClassification were not initialized from the model checkpoint at NbAiLab/nb-bert-base and are newly initialized: ['classifier.bias', 'classifier.weight']\n",
      "You should probably TRAIN this model on a down-stream task to be able to use it for predictions and inference.\n"
     ]
    }
   ],
   "source": [
    "\n",
    "# Load model and tokenizer\n",
    "model = AutoModelForSequenceClassification.from_pretrained(\n",
    "    \"NbAiLab/nb-bert-base\", num_labels=3\n",
    ")\n",
    "\n",
    "# config.hidden_dropout_prob = 0.15 # Default is usually 0.1. Increase for more regularization.\n",
    "# config.attention_probs_dropout_prob = 0.15 # Default is usually 0.1.\n",
    "\n",
    "\n",
    "tokenizer = AutoTokenizer.from_pretrained(\"NbAiLab/nb-bert-base\")\n",
    "\n",
    "# Load dataset\n",
    "dataset = load_dataset(\n",
    "    \"csv\",\n",
    "    data_files={\n",
    "        \"train\": \"train.csv\",\n",
    "        \"validation\": \"validation.csv\",\n",
    "        \"test\": \"test.csv\",\n",
    "    },\n",
    ")\n",
    "\n",
    "\n",
    "\n",
    "labels = dataset[\"train\"][\"label\"]  # Ensure correct column name\n",
    "class_weights = compute_class_weight(\"balanced\", classes=np.unique(labels), y=labels)\n",
    "class_weights = dict(enumerate(class_weights))\n",
    "\n",
    "# Tokenize data\n",
    "def tokenize_function(examples):\n",
    "    return tokenizer(\n",
    "        examples[\"norwegian_sentence\"],\n",
    "        padding=\"max_length\",\n",
    "        truncation=True,\n",
    "        max_length=256,\n",
    "    )\n",
    "\n",
    "\n",
    "tokenized_datasets = dataset.map(tokenize_function, batched=True)\n",
    "\n",
    "# Define training arguments\n",
    "training_args = TrainingArguments(\n",
    "    output_dir=\"./results\",\n",
    "    report_to=\"wandb\",\n",
    "    eval_strategy=\"epoch\",\n",
    "    save_strategy=\"epoch\",\n",
    "    per_device_train_batch_size=8,\n",
    "    per_device_eval_batch_size=8,\n",
    "    num_train_epochs=5,\n",
    "    weight_decay=0.01,           # To prevent overfitting, TODO NEEDS TUNING, initially increase by a small amount\n",
    "    #learning_rate=2e-5,          # Very common starting point for BERT fine-tuning, TODO: try 1e-5, 2e-5, 3e-5, 5e-5, or a linear/cosine scheduler\n",
    "    logging_dir=\"./logs\",\n",
    "    logging_steps=100,\n",
    "    save_total_limit=5,         # Avoid saving too many checkpoints\n",
    "    load_best_model_at_end=True,\n",
    "    metric_for_best_model=\"eval_loss\",\n",
    "    greater_is_better=False,    # lower is better for loss\n",
    ")\n",
    "\n",
    "early_stopping_callback = EarlyStoppingCallback(\n",
    "    early_stopping_patience=3, # Wait 3 epochs with no improvement on eval_loss\n",
    "    early_stopping_threshold=0.0 # Minimum change to qualify as an improvement\n",
    ")\n",
    "\n",
    "\n",
    "def compute_metrics(eval_pred):\n",
    "    logits, labels = eval_pred\n",
    "    predictions = logits.argmax(axis=-1)\n",
    "    return {\n",
    "        \"accuracy\": accuracy_score(labels, predictions),\n",
    "        \"f1\": f1_score(labels, predictions, average=\"weighted\"),\n",
    "    }\n",
    "\n",
    "\n",
    "# Train model\n",
    "trainer = Trainer(\n",
    "    model=model,\n",
    "    args=training_args,\n",
    "    train_dataset=tokenized_datasets[\"train\"],\n",
    "    eval_dataset=tokenized_datasets[\"validation\"],\n",
    "    compute_metrics=compute_metrics,\n",
    "    callbacks=[early_stopping_callback]\n",
    ")\n",
    "\n",
    "\n"
   ]
  },
  {
   "cell_type": "code",
   "execution_count": 14,
   "id": "0dd9304b",
   "metadata": {},
   "outputs": [
    {
     "name": "stderr",
     "output_type": "stream",
     "text": [
      "\u001b[34m\u001b[1mwandb\u001b[0m: \u001b[33mWARNING\u001b[0m The `run_name` is currently set to the same value as `TrainingArguments.output_dir`. If this was not intended, please specify a different run name by setting the `TrainingArguments.run_name` parameter.\n",
      "\u001b[34m\u001b[1mwandb\u001b[0m: Currently logged in as: \u001b[33mtimian\u001b[0m (\u001b[33mtimian-vegg\u001b[0m) to \u001b[32mhttps://api.wandb.ai\u001b[0m. Use \u001b[1m`wandb login --relogin`\u001b[0m to force relogin\n"
     ]
    },
    {
     "data": {
      "text/html": [
       "Tracking run with wandb version 0.20.1"
      ],
      "text/plain": [
       "<IPython.core.display.HTML object>"
      ]
     },
     "metadata": {},
     "output_type": "display_data"
    },
    {
     "data": {
      "text/html": [
       "Run data is saved locally in <code>c:\\Development\\Python_programs\\algorithmic-trading\\wandb\\run-20250610_161533-kycfst7n</code>"
      ],
      "text/plain": [
       "<IPython.core.display.HTML object>"
      ]
     },
     "metadata": {},
     "output_type": "display_data"
    },
    {
     "data": {
      "text/html": [
       "Syncing run <strong><a href='https://wandb.ai/timian-vegg/my-awesome-project/runs/kycfst7n' target=\"_blank\">./results</a></strong> to <a href='https://wandb.ai/timian-vegg/my-awesome-project' target=\"_blank\">Weights & Biases</a> (<a href='https://wandb.me/developer-guide' target=\"_blank\">docs</a>)<br>"
      ],
      "text/plain": [
       "<IPython.core.display.HTML object>"
      ]
     },
     "metadata": {},
     "output_type": "display_data"
    },
    {
     "data": {
      "text/html": [
       " View project at <a href='https://wandb.ai/timian-vegg/my-awesome-project' target=\"_blank\">https://wandb.ai/timian-vegg/my-awesome-project</a>"
      ],
      "text/plain": [
       "<IPython.core.display.HTML object>"
      ]
     },
     "metadata": {},
     "output_type": "display_data"
    },
    {
     "data": {
      "text/html": [
       " View run at <a href='https://wandb.ai/timian-vegg/my-awesome-project/runs/kycfst7n' target=\"_blank\">https://wandb.ai/timian-vegg/my-awesome-project/runs/kycfst7n</a>"
      ],
      "text/plain": [
       "<IPython.core.display.HTML object>"
      ]
     },
     "metadata": {},
     "output_type": "display_data"
    },
    {
     "data": {
      "text/html": [
       "\n",
       "    <div>\n",
       "      \n",
       "      <progress value='1845' max='1845' style='width:300px; height:20px; vertical-align: middle;'></progress>\n",
       "      [1845/1845 44:41, Epoch 5/5]\n",
       "    </div>\n",
       "    <table border=\"1\" class=\"dataframe\">\n",
       "  <thead>\n",
       " <tr style=\"text-align: left;\">\n",
       "      <th>Epoch</th>\n",
       "      <th>Training Loss</th>\n",
       "      <th>Validation Loss</th>\n",
       "      <th>Accuracy</th>\n",
       "      <th>F1</th>\n",
       "    </tr>\n",
       "  </thead>\n",
       "  <tbody>\n",
       "    <tr>\n",
       "      <td>1</td>\n",
       "      <td>0.612600</td>\n",
       "      <td>0.626332</td>\n",
       "      <td>0.797788</td>\n",
       "      <td>0.802724</td>\n",
       "    </tr>\n",
       "    <tr>\n",
       "      <td>2</td>\n",
       "      <td>0.386800</td>\n",
       "      <td>0.398188</td>\n",
       "      <td>0.875197</td>\n",
       "      <td>0.875322</td>\n",
       "    </tr>\n",
       "    <tr>\n",
       "      <td>3</td>\n",
       "      <td>0.255600</td>\n",
       "      <td>0.509186</td>\n",
       "      <td>0.881517</td>\n",
       "      <td>0.882151</td>\n",
       "    </tr>\n",
       "    <tr>\n",
       "      <td>4</td>\n",
       "      <td>0.091100</td>\n",
       "      <td>0.518353</td>\n",
       "      <td>0.884676</td>\n",
       "      <td>0.885428</td>\n",
       "    </tr>\n",
       "    <tr>\n",
       "      <td>5</td>\n",
       "      <td>0.100700</td>\n",
       "      <td>0.514049</td>\n",
       "      <td>0.894155</td>\n",
       "      <td>0.894637</td>\n",
       "    </tr>\n",
       "  </tbody>\n",
       "</table><p>"
      ],
      "text/plain": [
       "<IPython.core.display.HTML object>"
      ]
     },
     "metadata": {},
     "output_type": "display_data"
    },
    {
     "data": {
      "text/html": [
       "\n",
       "    <div>\n",
       "      \n",
       "      <progress value='80' max='80' style='width:300px; height:20px; vertical-align: middle;'></progress>\n",
       "      [80/80 00:20]\n",
       "    </div>\n",
       "    "
      ],
      "text/plain": [
       "<IPython.core.display.HTML object>"
      ]
     },
     "metadata": {},
     "output_type": "display_data"
    },
    {
     "name": "stderr",
     "output_type": "stream",
     "text": [
      "\u001b[34m\u001b[1mwandb\u001b[0m: \u001b[32m\u001b[41mERROR\u001b[0m The nbformat package was not found. It is required to save notebook history.\n"
     ]
    },
    {
     "data": {
      "text/html": [],
      "text/plain": [
       "<IPython.core.display.HTML object>"
      ]
     },
     "metadata": {},
     "output_type": "display_data"
    },
    {
     "data": {
      "text/html": [
       "<br>    <style><br>        .wandb-row {<br>            display: flex;<br>            flex-direction: row;<br>            flex-wrap: wrap;<br>            justify-content: flex-start;<br>            width: 100%;<br>        }<br>        .wandb-col {<br>            display: flex;<br>            flex-direction: column;<br>            flex-basis: 100%;<br>            flex: 1;<br>            padding: 10px;<br>        }<br>    </style><br><div class=\"wandb-row\"><div class=\"wandb-col\"><h3>Run history:</h3><br/><table class=\"wandb\"><tr><td>eval/accuracy</td><td>▁▇▇▇█▇</td></tr><tr><td>eval/f1</td><td>▁▇▇▇█▇</td></tr><tr><td>eval/loss</td><td>█▁▄▅▅▁</td></tr><tr><td>eval/runtime</td><td>█▁▁▁▁▂</td></tr><tr><td>eval/samples_per_second</td><td>▁████▆</td></tr><tr><td>eval/steps_per_second</td><td>▁████▆</td></tr><tr><td>train/epoch</td><td>▁▁▂▂▂▃▃▃▄▄▄▅▅▅▅▆▆▇▇▇▇████</td></tr><tr><td>train/global_step</td><td>▁▁▂▂▂▃▃▃▄▄▄▅▅▅▅▆▆▇▇▇▇████</td></tr><tr><td>train/grad_norm</td><td>▂▂▂█▂▂▂▁▂▁▁▁▂▁▁▁▂▁</td></tr><tr><td>train/learning_rate</td><td>██▇▇▆▆▆▅▅▄▄▃▃▃▂▂▁▁</td></tr><tr><td>train/loss</td><td>█▆▆▅▄▄▄▃▃▃▂▂▂▁▂▁▁▁</td></tr></table><br/></div><div class=\"wandb-col\"><h3>Run summary:</h3><br/><table class=\"wandb\"><tr><td>eval/accuracy</td><td>0.8752</td></tr><tr><td>eval/f1</td><td>0.87532</td></tr><tr><td>eval/loss</td><td>0.39819</td></tr><tr><td>eval/runtime</td><td>20.5122</td></tr><tr><td>eval/samples_per_second</td><td>30.86</td></tr><tr><td>eval/steps_per_second</td><td>3.9</td></tr><tr><td>total_flos</td><td>1941119239288320.0</td></tr><tr><td>train/epoch</td><td>5</td></tr><tr><td>train/global_step</td><td>1845</td></tr><tr><td>train/grad_norm</td><td>0.07554</td></tr><tr><td>train/learning_rate</td><td>0.0</td></tr><tr><td>train/loss</td><td>0.1007</td></tr><tr><td>train_loss</td><td>0.33186</td></tr><tr><td>train_runtime</td><td>2684.875</td></tr><tr><td>train_samples_per_second</td><td>5.496</td></tr><tr><td>train_steps_per_second</td><td>0.687</td></tr></table><br/></div></div>"
      ],
      "text/plain": [
       "<IPython.core.display.HTML object>"
      ]
     },
     "metadata": {},
     "output_type": "display_data"
    },
    {
     "data": {
      "text/html": [
       " View run <strong style=\"color:#cdcd00\">./results</strong> at: <a href='https://wandb.ai/timian-vegg/my-awesome-project/runs/kycfst7n' target=\"_blank\">https://wandb.ai/timian-vegg/my-awesome-project/runs/kycfst7n</a><br> View project at: <a href='https://wandb.ai/timian-vegg/my-awesome-project' target=\"_blank\">https://wandb.ai/timian-vegg/my-awesome-project</a><br>Synced 5 W&B file(s), 0 media file(s), 0 artifact file(s) and 0 other file(s)"
      ],
      "text/plain": [
       "<IPython.core.display.HTML object>"
      ]
     },
     "metadata": {},
     "output_type": "display_data"
    },
    {
     "data": {
      "text/html": [
       "Find logs at: <code>.\\wandb\\run-20250610_161533-kycfst7n\\logs</code>"
      ],
      "text/plain": [
       "<IPython.core.display.HTML object>"
      ]
     },
     "metadata": {},
     "output_type": "display_data"
    }
   ],
   "source": [
    "trainer.train()\n",
    "trainer.save_model(output_dir)\n",
    "trainer.evaluate()\n",
    "wandb.finish()"
   ]
  },
  {
   "cell_type": "code",
   "execution_count": null,
   "id": "fe9be790",
   "metadata": {},
   "outputs": [],
   "source": [
    "df[\"label\"].value_counts().plot(kind=\"bar\")\n",
    "plt.xlabel(\"Class\")\n",
    "plt.ylabel(\"Count\")\n",
    "plt.title(\"Class Distribution\")\n",
    "plt.savefig(f\"{output_dir}/class-distribution.png\")\n",
    "plt.close()\n",
    "\n",
    "\n",
    "loss_values = trainer.state.log_history\n",
    "epochs = []\n",
    "train_losses = []\n",
    "val_epochs = []\n",
    "val_losses = []\n",
    "\n",
    "for entry in loss_values:\n",
    "    if \"epoch\" in entry and \"loss\" in entry:\n",
    "        epochs.append(entry[\"epoch\"])\n",
    "        train_losses.append(entry[\"loss\"])\n",
    "    if \"epoch\" in entry and \"eval_loss\" in entry:\n",
    "        val_epochs.append(entry[\"epoch\"])\n",
    "        val_losses.append(entry[\"eval_loss\"])\n",
    "\n",
    "plt.plot(epochs, train_losses, marker=\"o\", label=\"Training Loss\")\n",
    "plt.plot(val_epochs, val_losses, marker=\"x\", label=\"Validation Loss\")\n",
    "plt.xlabel(\"Epochs\")\n",
    "plt.ylabel(\"Loss\")\n",
    "plt.title(\"Training and Validation Loss Over Time\")\n",
    "plt.legend()\n",
    "plt.savefig(f\"{output_dir}/loss.png\")\n",
    "plt.close()\n",
    "\n",
    "train_acc_epochs, train_accs = [], []\n",
    "val_acc_epochs, val_accs = [], []\n",
    "val_f1_epochs, val_f1s = [], []\n",
    "\n",
    "for entry in loss_values:\n",
    "    if \"epoch\" in entry and \"accuracy\" in entry:\n",
    "        train_acc_epochs.append(entry[\"epoch\"])\n",
    "        train_accs.append(entry[\"accuracy\"])\n",
    "    if \"epoch\" in entry and \"eval_accuracy\" in entry:\n",
    "        val_acc_epochs.append(entry[\"epoch\"])\n",
    "        val_accs.append(entry[\"eval_accuracy\"])\n",
    "    if \"epoch\" in entry and \"eval_f1\" in entry:\n",
    "        val_f1_epochs.append(entry[\"epoch\"])\n",
    "        val_f1s.append(entry[\"eval_f1\"])\n",
    "\n",
    "plt.plot(val_acc_epochs, val_accs, marker=\"o\", label=\"Validation Accuracy\")\n",
    "plt.plot(val_f1_epochs, val_f1s, marker=\"x\", label=\"Validation F1\")\n",
    "plt.xlabel(\"Epochs\")\n",
    "plt.ylabel(\"Score\")\n",
    "plt.title(\"Validation Accuracy and F1 Over Time\")\n",
    "plt.legend()\n",
    "plt.savefig(f\"{output_dir}/val-acc-f1.png\")\n",
    "\n",
    "\n",
    "test_results = trainer.predict(tokenized_datasets[\"test\"])\n",
    "\n",
    "print(\"\\n\\nTest set Metrics:\")\n",
    "for key, value in test_results.metrics.items():\n",
    "    print(f\"{key}: {value}\")\n",
    "\n",
    "\n",
    "y_true = test_results.label_ids\n",
    "y_pred = test_results.predictions.argmax(axis=-1)\n",
    "\n",
    "cm = confusion_matrix(y_true, y_pred)\n",
    "disp = ConfusionMatrixDisplay(confusion_matrix=cm)\n",
    "disp.plot()\n",
    "plt.title(\"Confusion Matrix\")\n",
    "plt.savefig(f\"{output_dir}/confusion_matrix.png\")\n",
    "plt.close()\n"
   ]
  }
 ],
 "metadata": {
  "kernelspec": {
   "display_name": "algtrading",
   "language": "python",
   "name": "python3"
  },
  "language_info": {
   "codemirror_mode": {
    "name": "ipython",
    "version": 3
   },
   "file_extension": ".py",
   "mimetype": "text/x-python",
   "name": "python",
   "nbconvert_exporter": "python",
   "pygments_lexer": "ipython3",
   "version": "3.12.3"
  }
 },
 "nbformat": 4,
 "nbformat_minor": 5
}
